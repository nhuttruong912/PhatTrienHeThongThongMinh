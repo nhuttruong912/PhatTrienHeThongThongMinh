{
 "cells": [
  {
   "cell_type": "code",
   "execution_count": 1,
   "id": "e099ed60",
   "metadata": {
    "execution": {
     "iopub.execute_input": "2023-11-04T11:49:56.060142Z",
     "iopub.status.busy": "2023-11-04T11:49:56.059462Z",
     "iopub.status.idle": "2023-11-04T11:49:58.133314Z",
     "shell.execute_reply": "2023-11-04T11:49:58.132296Z"
    },
    "papermill": {
     "duration": 2.086612,
     "end_time": "2023-11-04T11:49:58.135929",
     "exception": false,
     "start_time": "2023-11-04T11:49:56.049317",
     "status": "completed"
    },
    "tags": []
   },
   "outputs": [],
   "source": [
    "import numpy as np\n",
    "import pandas as pd\n",
    "import sklearn\n",
    "import matplotlib.pyplot as plt\n",
    "import seaborn as sns\n",
    "\n",
    "import warnings\n",
    "warnings.simplefilter(action='ignore', category=FutureWarning)"
   ]
  },
  {
   "cell_type": "code",
   "execution_count": 2,
   "id": "d86a7e09",
   "metadata": {
    "execution": {
     "iopub.execute_input": "2023-11-04T11:49:58.153231Z",
     "iopub.status.busy": "2023-11-04T11:49:58.152666Z",
     "iopub.status.idle": "2023-11-04T11:49:58.277664Z",
     "shell.execute_reply": "2023-11-04T11:49:58.276449Z"
    },
    "papermill": {
     "duration": 0.136473,
     "end_time": "2023-11-04T11:49:58.280212",
     "exception": false,
     "start_time": "2023-11-04T11:49:58.143739",
     "status": "completed"
    },
    "tags": []
   },
   "outputs": [
    {
     "data": {
      "text/html": [
       "<div>\n",
       "<style scoped>\n",
       "    .dataframe tbody tr th:only-of-type {\n",
       "        vertical-align: middle;\n",
       "    }\n",
       "\n",
       "    .dataframe tbody tr th {\n",
       "        vertical-align: top;\n",
       "    }\n",
       "\n",
       "    .dataframe thead th {\n",
       "        text-align: right;\n",
       "    }\n",
       "</style>\n",
       "<table border=\"1\" class=\"dataframe\">\n",
       "  <thead>\n",
       "    <tr style=\"text-align: right;\">\n",
       "      <th></th>\n",
       "      <th>userId</th>\n",
       "      <th>movieId</th>\n",
       "      <th>rating</th>\n",
       "      <th>timestamp</th>\n",
       "    </tr>\n",
       "  </thead>\n",
       "  <tbody>\n",
       "    <tr>\n",
       "      <th>0</th>\n",
       "      <td>1</td>\n",
       "      <td>1</td>\n",
       "      <td>4.0</td>\n",
       "      <td>964982703</td>\n",
       "    </tr>\n",
       "    <tr>\n",
       "      <th>1</th>\n",
       "      <td>1</td>\n",
       "      <td>3</td>\n",
       "      <td>4.0</td>\n",
       "      <td>964981247</td>\n",
       "    </tr>\n",
       "    <tr>\n",
       "      <th>2</th>\n",
       "      <td>1</td>\n",
       "      <td>6</td>\n",
       "      <td>4.0</td>\n",
       "      <td>964982224</td>\n",
       "    </tr>\n",
       "    <tr>\n",
       "      <th>3</th>\n",
       "      <td>1</td>\n",
       "      <td>47</td>\n",
       "      <td>5.0</td>\n",
       "      <td>964983815</td>\n",
       "    </tr>\n",
       "    <tr>\n",
       "      <th>4</th>\n",
       "      <td>1</td>\n",
       "      <td>50</td>\n",
       "      <td>5.0</td>\n",
       "      <td>964982931</td>\n",
       "    </tr>\n",
       "  </tbody>\n",
       "</table>\n",
       "</div>"
      ],
      "text/plain": [
       "   userId  movieId  rating  timestamp\n",
       "0       1        1     4.0  964982703\n",
       "1       1        3     4.0  964981247\n",
       "2       1        6     4.0  964982224\n",
       "3       1       47     5.0  964983815\n",
       "4       1       50     5.0  964982931"
      ]
     },
     "execution_count": 2,
     "metadata": {},
     "output_type": "execute_result"
    }
   ],
   "source": [
    "ratings = pd.read_csv(\"/kaggle/input/hhhhhhh/ratings.csv\")\n",
    "ratings.head()\n"
   ]
  },
  {
   "cell_type": "code",
   "execution_count": 3,
   "id": "1654c364",
   "metadata": {
    "execution": {
     "iopub.execute_input": "2023-11-04T11:49:58.297680Z",
     "iopub.status.busy": "2023-11-04T11:49:58.297238Z",
     "iopub.status.idle": "2023-11-04T11:49:58.317150Z",
     "shell.execute_reply": "2023-11-04T11:49:58.316004Z"
    },
    "papermill": {
     "duration": 0.031808,
     "end_time": "2023-11-04T11:49:58.319894",
     "exception": false,
     "start_time": "2023-11-04T11:49:58.288086",
     "status": "completed"
    },
    "tags": []
   },
   "outputs": [
    {
     "data": {
      "text/html": [
       "<div>\n",
       "<style scoped>\n",
       "    .dataframe tbody tr th:only-of-type {\n",
       "        vertical-align: middle;\n",
       "    }\n",
       "\n",
       "    .dataframe tbody tr th {\n",
       "        vertical-align: top;\n",
       "    }\n",
       "\n",
       "    .dataframe thead th {\n",
       "        text-align: right;\n",
       "    }\n",
       "</style>\n",
       "<table border=\"1\" class=\"dataframe\">\n",
       "  <thead>\n",
       "    <tr style=\"text-align: right;\">\n",
       "      <th></th>\n",
       "      <th>movieId</th>\n",
       "      <th>title</th>\n",
       "      <th>fullPrice</th>\n",
       "    </tr>\n",
       "  </thead>\n",
       "  <tbody>\n",
       "    <tr>\n",
       "      <th>0</th>\n",
       "      <td>1</td>\n",
       "      <td>Air Jordan 1 Low</td>\n",
       "      <td>110</td>\n",
       "    </tr>\n",
       "    <tr>\n",
       "      <th>1</th>\n",
       "      <td>2</td>\n",
       "      <td>Air Jordan 1 Low</td>\n",
       "      <td>110</td>\n",
       "    </tr>\n",
       "    <tr>\n",
       "      <th>2</th>\n",
       "      <td>3</td>\n",
       "      <td>Air Jordan 1 Low</td>\n",
       "      <td>110</td>\n",
       "    </tr>\n",
       "    <tr>\n",
       "      <th>3</th>\n",
       "      <td>4</td>\n",
       "      <td>Air Jordan 1 Low</td>\n",
       "      <td>110</td>\n",
       "    </tr>\n",
       "    <tr>\n",
       "      <th>4</th>\n",
       "      <td>5</td>\n",
       "      <td>Air Jordan 1 Low</td>\n",
       "      <td>110</td>\n",
       "    </tr>\n",
       "  </tbody>\n",
       "</table>\n",
       "</div>"
      ],
      "text/plain": [
       "   movieId             title  fullPrice\n",
       "0        1  Air Jordan 1 Low        110\n",
       "1        2  Air Jordan 1 Low        110\n",
       "2        3  Air Jordan 1 Low        110\n",
       "3        4  Air Jordan 1 Low        110\n",
       "4        5  Air Jordan 1 Low        110"
      ]
     },
     "execution_count": 3,
     "metadata": {},
     "output_type": "execute_result"
    }
   ],
   "source": [
    "shoes = pd.read_csv(\"/kaggle/input/hhhhhhh/shoe.csv\")\n",
    "shoes.head()"
   ]
  },
  {
   "cell_type": "code",
   "execution_count": 4,
   "id": "d7364300",
   "metadata": {
    "execution": {
     "iopub.execute_input": "2023-11-04T11:49:58.338272Z",
     "iopub.status.busy": "2023-11-04T11:49:58.337822Z",
     "iopub.status.idle": "2023-11-04T11:49:58.354105Z",
     "shell.execute_reply": "2023-11-04T11:49:58.352660Z"
    },
    "papermill": {
     "duration": 0.028658,
     "end_time": "2023-11-04T11:49:58.356835",
     "exception": false,
     "start_time": "2023-11-04T11:49:58.328177",
     "status": "completed"
    },
    "tags": []
   },
   "outputs": [
    {
     "name": "stdout",
     "output_type": "stream",
     "text": [
      "Number of ratings: 100836\n",
      "Number of unique shoeId's: 9724\n",
      "Number of unique users: 610\n",
      "Average number of ratings per user: 165.3\n",
      "Average number of ratings per shoe: 10.37\n"
     ]
    }
   ],
   "source": [
    "n_ratings = len(ratings)\n",
    "n_shoes = ratings['movieId'].nunique()\n",
    "n_users = ratings['userId'].nunique()\n",
    "\n",
    "print(f\"Number of ratings: {n_ratings}\")\n",
    "print(f\"Number of unique shoeId's: {n_shoes}\")\n",
    "print(f\"Number of unique users: {n_users}\")\n",
    "print(f\"Average number of ratings per user: {round(n_ratings/n_users, 2)}\")\n",
    "print(f\"Average number of ratings per shoe: {round(n_ratings/n_shoes, 2)}\")"
   ]
  },
  {
   "cell_type": "code",
   "execution_count": 5,
   "id": "1d5e6a1e",
   "metadata": {
    "execution": {
     "iopub.execute_input": "2023-11-04T11:49:58.375422Z",
     "iopub.status.busy": "2023-11-04T11:49:58.374681Z",
     "iopub.status.idle": "2023-11-04T11:49:58.398350Z",
     "shell.execute_reply": "2023-11-04T11:49:58.397241Z"
    },
    "papermill": {
     "duration": 0.036003,
     "end_time": "2023-11-04T11:49:58.401011",
     "exception": false,
     "start_time": "2023-11-04T11:49:58.365008",
     "status": "completed"
    },
    "tags": []
   },
   "outputs": [
    {
     "data": {
      "text/html": [
       "<div>\n",
       "<style scoped>\n",
       "    .dataframe tbody tr th:only-of-type {\n",
       "        vertical-align: middle;\n",
       "    }\n",
       "\n",
       "    .dataframe tbody tr th {\n",
       "        vertical-align: top;\n",
       "    }\n",
       "\n",
       "    .dataframe thead th {\n",
       "        text-align: right;\n",
       "    }\n",
       "</style>\n",
       "<table border=\"1\" class=\"dataframe\">\n",
       "  <thead>\n",
       "    <tr style=\"text-align: right;\">\n",
       "      <th></th>\n",
       "      <th>userId</th>\n",
       "      <th>n_ratings</th>\n",
       "    </tr>\n",
       "  </thead>\n",
       "  <tbody>\n",
       "    <tr>\n",
       "      <th>0</th>\n",
       "      <td>1</td>\n",
       "      <td>232</td>\n",
       "    </tr>\n",
       "    <tr>\n",
       "      <th>1</th>\n",
       "      <td>2</td>\n",
       "      <td>29</td>\n",
       "    </tr>\n",
       "    <tr>\n",
       "      <th>2</th>\n",
       "      <td>3</td>\n",
       "      <td>39</td>\n",
       "    </tr>\n",
       "    <tr>\n",
       "      <th>3</th>\n",
       "      <td>4</td>\n",
       "      <td>216</td>\n",
       "    </tr>\n",
       "    <tr>\n",
       "      <th>4</th>\n",
       "      <td>5</td>\n",
       "      <td>44</td>\n",
       "    </tr>\n",
       "  </tbody>\n",
       "</table>\n",
       "</div>"
      ],
      "text/plain": [
       "   userId  n_ratings\n",
       "0       1        232\n",
       "1       2         29\n",
       "2       3         39\n",
       "3       4        216\n",
       "4       5         44"
      ]
     },
     "execution_count": 5,
     "metadata": {},
     "output_type": "execute_result"
    }
   ],
   "source": [
    "user_freq = ratings[['userId', 'movieId']].groupby('userId').count().reset_index()\n",
    "user_freq.columns = ['userId', 'n_ratings']\n",
    "user_freq.head()"
   ]
  },
  {
   "cell_type": "code",
   "execution_count": 6,
   "id": "0f7671cf",
   "metadata": {
    "execution": {
     "iopub.execute_input": "2023-11-04T11:49:58.419348Z",
     "iopub.status.busy": "2023-11-04T11:49:58.418971Z",
     "iopub.status.idle": "2023-11-04T11:49:58.424369Z",
     "shell.execute_reply": "2023-11-04T11:49:58.423519Z"
    },
    "papermill": {
     "duration": 0.017529,
     "end_time": "2023-11-04T11:49:58.426813",
     "exception": false,
     "start_time": "2023-11-04T11:49:58.409284",
     "status": "completed"
    },
    "tags": []
   },
   "outputs": [
    {
     "name": "stdout",
     "output_type": "stream",
     "text": [
      "Mean number of ratings for a given user: 165.30.\n"
     ]
    }
   ],
   "source": [
    "print(f\"Mean number of ratings for a given user: {user_freq['n_ratings'].mean():.2f}.\")"
   ]
  },
  {
   "cell_type": "code",
   "execution_count": 7,
   "id": "a4ac136e",
   "metadata": {
    "execution": {
     "iopub.execute_input": "2023-11-04T11:49:58.445243Z",
     "iopub.status.busy": "2023-11-04T11:49:58.444833Z",
     "iopub.status.idle": "2023-11-04T11:49:59.314032Z",
     "shell.execute_reply": "2023-11-04T11:49:59.313115Z"
    },
    "papermill": {
     "duration": 0.881315,
     "end_time": "2023-11-04T11:49:59.316381",
     "exception": false,
     "start_time": "2023-11-04T11:49:58.435066",
     "status": "completed"
    },
    "tags": []
   },
   "outputs": [
    {
     "data": {
      "image/png": "[encoded data removed]",
      "text/plain": [
       "<Figure size 1400x500 with 2 Axes>"
      ]
     },
     "metadata": {},
     "output_type": "display_data"
    }
   ],
   "source": [
    "sns.set_style(\"whitegrid\")\n",
    "plt.figure(figsize=(14,5))\n",
    "plt.subplot(1,2,1)\n",
    "ax = sns.countplot(x=\"rating\", data=ratings, palette=\"viridis\")\n",
    "plt.title(\"Distribution of shoe ratings\")\n",
    "\n",
    "plt.subplot(1,2,2)\n",
    "ax = sns.kdeplot(user_freq['n_ratings'], shade=True, legend=False)\n",
    "plt.axvline(user_freq['n_ratings'].mean(), color=\"k\", linestyle=\"--\")\n",
    "plt.xlabel(\"# ratings per user\")\n",
    "plt.ylabel(\"density\")\n",
    "plt.title(\"Number of shoe rated per user\")\n",
    "plt.show()"
   ]
  },
  {
   "cell_type": "code",
   "execution_count": 8,
   "id": "82ada4b0",
   "metadata": {
    "execution": {
     "iopub.execute_input": "2023-11-04T11:49:59.336969Z",
     "iopub.status.busy": "2023-11-04T11:49:59.336315Z",
     "iopub.status.idle": "2023-11-04T11:49:59.841742Z",
     "shell.execute_reply": "2023-11-04T11:49:59.840323Z"
    },
    "papermill": {
     "duration": 0.518167,
     "end_time": "2023-11-04T11:49:59.843810",
     "exception": true,
     "start_time": "2023-11-04T11:49:59.325643",
     "status": "failed"
    },
    "tags": []
   },
   "outputs": [
    {
     "ename": "NameError",
     "evalue": "name 'movies' is not defined",
     "output_type": "error",
     "traceback": [
      "\u001b[0;31m---------------------------------------------------------------------------\u001b[0m",
      "\u001b[0;31mNameError\u001b[0m                                 Traceback (most recent call last)",
      "Cell \u001b[0;32mIn[8], line 4\u001b[0m\n\u001b[1;32m      1\u001b[0m mean_rating \u001b[38;5;241m=\u001b[39m ratings\u001b[38;5;241m.\u001b[39mgroupby(\u001b[38;5;124m'\u001b[39m\u001b[38;5;124mmovieId\u001b[39m\u001b[38;5;124m'\u001b[39m)[[\u001b[38;5;124m'\u001b[39m\u001b[38;5;124mrating\u001b[39m\u001b[38;5;124m'\u001b[39m]]\u001b[38;5;241m.\u001b[39mmean()\n\u001b[1;32m      3\u001b[0m lowest_rated \u001b[38;5;241m=\u001b[39m mean_rating[\u001b[38;5;124m'\u001b[39m\u001b[38;5;124mrating\u001b[39m\u001b[38;5;124m'\u001b[39m]\u001b[38;5;241m.\u001b[39midxmin()\n\u001b[0;32m----> 4\u001b[0m \u001b[43mmovies\u001b[49m\u001b[38;5;241m.\u001b[39mloc[movies[\u001b[38;5;124m'\u001b[39m\u001b[38;5;124mmovieId\u001b[39m\u001b[38;5;124m'\u001b[39m] \u001b[38;5;241m==\u001b[39m lowest_rated]\n",
      "\u001b[0;31mNameError\u001b[0m: name 'movies' is not defined"
     ]
    }
   ],
   "source": [
    "mean_rating = ratings.groupby('movieId')[['rating']].mean()\n",
    "\n",
    "lowest_rated = mean_rating['rating'].idxmin()\n",
    "movies.loc[movies['movieId'] == lowest_rated]"
   ]
  },
  {
   "cell_type": "code",
   "execution_count": null,
   "id": "bc0f3792",
   "metadata": {
    "execution": {
     "iopub.execute_input": "2023-11-04T10:02:10.802630Z",
     "iopub.status.busy": "2023-11-04T10:02:10.801796Z",
     "iopub.status.idle": "2023-11-04T10:02:10.814450Z",
     "shell.execute_reply": "2023-11-04T10:02:10.813247Z",
     "shell.execute_reply.started": "2023-11-04T10:02:10.802594Z"
    },
    "papermill": {
     "duration": null,
     "end_time": null,
     "exception": null,
     "start_time": null,
     "status": "pending"
    },
    "tags": []
   },
   "outputs": [],
   "source": [
    "highest_rated = mean_rating['rating'].idxmax()\n",
    "movies.loc[movies['movieId'] == highest_rated]"
   ]
  },
  {
   "cell_type": "code",
   "execution_count": null,
   "id": "20559bac",
   "metadata": {
    "execution": {
     "iopub.execute_input": "2023-11-04T10:02:22.389608Z",
     "iopub.status.busy": "2023-11-04T10:02:22.389219Z",
     "iopub.status.idle": "2023-11-04T10:02:22.400822Z",
     "shell.execute_reply": "2023-11-04T10:02:22.400220Z",
     "shell.execute_reply.started": "2023-11-04T10:02:22.389582Z"
    },
    "papermill": {
     "duration": null,
     "end_time": null,
     "exception": null,
     "start_time": null,
     "status": "pending"
    },
    "tags": []
   },
   "outputs": [],
   "source": [
    "ratings[ratings['movieId']==highest_rated]"
   ]
  },
  {
   "cell_type": "code",
   "execution_count": null,
   "id": "ee3477a5",
   "metadata": {
    "execution": {
     "iopub.execute_input": "2023-11-04T10:02:35.993479Z",
     "iopub.status.busy": "2023-11-04T10:02:35.993101Z",
     "iopub.status.idle": "2023-11-04T10:02:36.009425Z",
     "shell.execute_reply": "2023-11-04T10:02:36.008004Z",
     "shell.execute_reply.started": "2023-11-04T10:02:35.993453Z"
    },
    "papermill": {
     "duration": null,
     "end_time": null,
     "exception": null,
     "start_time": null,
     "status": "pending"
    },
    "tags": []
   },
   "outputs": [],
   "source": [
    "movie_stats = ratings.groupby('movieId')[['rating']].agg(['count', 'mean'])\n",
    "movie_stats.columns = movie_stats.columns.droplevel()"
   ]
  },
  {
   "cell_type": "code",
   "execution_count": null,
   "id": "e481ee6d",
   "metadata": {
    "execution": {
     "iopub.execute_input": "2023-11-04T10:02:45.245297Z",
     "iopub.status.busy": "2023-11-04T10:02:45.244936Z",
     "iopub.status.idle": "2023-11-04T10:02:46.213824Z",
     "shell.execute_reply": "2023-11-04T10:02:46.212721Z",
     "shell.execute_reply.started": "2023-11-04T10:02:45.245271Z"
    },
    "papermill": {
     "duration": null,
     "end_time": null,
     "exception": null,
     "start_time": null,
     "status": "pending"
    },
    "tags": []
   },
   "outputs": [],
   "source": [
    "C = movie_stats['count'].mean()\n",
    "m = movie_stats['mean'].mean()\n",
    "\n",
    "def bayesian_avg(ratings):\n",
    "    bayesian_avg = (C*m+ratings.sum())/(C+ratings.count())\n",
    "    return bayesian_avg\n",
    "\n",
    "bayesian_avg_ratings = ratings.groupby('movieId')['rating'].agg(bayesian_avg).reset_index()\n",
    "bayesian_avg_ratings.columns = ['movieId', 'bayesian_avg']\n",
    "movie_stats = movie_stats.merge(bayesian_avg_ratings, on='movieId')"
   ]
  },
  {
   "cell_type": "code",
   "execution_count": null,
   "id": "b0856a31",
   "metadata": {
    "execution": {
     "iopub.execute_input": "2023-11-04T10:02:56.834577Z",
     "iopub.status.busy": "2023-11-04T10:02:56.833324Z",
     "iopub.status.idle": "2023-11-04T10:02:56.852404Z",
     "shell.execute_reply": "2023-11-04T10:02:56.851428Z",
     "shell.execute_reply.started": "2023-11-04T10:02:56.834547Z"
    },
    "papermill": {
     "duration": null,
     "end_time": null,
     "exception": null,
     "start_time": null,
     "status": "pending"
    },
    "tags": []
   },
   "outputs": [],
   "source": [
    "movie_stats = movie_stats.merge(movies[['movieId', 'title']])\n",
    "movie_stats.sort_values('bayesian_avg', ascending=False).head()"
   ]
  },
  {
   "cell_type": "code",
   "execution_count": null,
   "id": "598be6bd",
   "metadata": {
    "execution": {
     "iopub.execute_input": "2023-11-04T10:03:08.945283Z",
     "iopub.status.busy": "2023-11-04T10:03:08.944898Z",
     "iopub.status.idle": "2023-11-04T10:03:08.957621Z",
     "shell.execute_reply": "2023-11-04T10:03:08.956605Z",
     "shell.execute_reply.started": "2023-11-04T10:03:08.945255Z"
    },
    "papermill": {
     "duration": null,
     "end_time": null,
     "exception": null,
     "start_time": null,
     "status": "pending"
    },
    "tags": []
   },
   "outputs": [],
   "source": [
    "movie_stats.sort_values('bayesian_avg', ascending=True).head()"
   ]
  },
  {
   "cell_type": "code",
   "execution_count": null,
   "id": "b07611fb",
   "metadata": {
    "execution": {
     "iopub.execute_input": "2023-11-04T10:03:44.974434Z",
     "iopub.status.busy": "2023-11-04T10:03:44.974055Z",
     "iopub.status.idle": "2023-11-04T10:03:44.982708Z",
     "shell.execute_reply": "2023-11-04T10:03:44.981685Z",
     "shell.execute_reply.started": "2023-11-04T10:03:44.974409Z"
    },
    "papermill": {
     "duration": null,
     "end_time": null,
     "exception": null,
     "start_time": null,
     "status": "pending"
    },
    "tags": []
   },
   "outputs": [],
   "source": [
    "from scipy.sparse import csr_matrix\n",
    "\n",
    "def create_X(df):\n",
    "    \"\"\"\n",
    "    Generates a sparse matrix from ratings dataframe.\n",
    "    \n",
    "    Args:\n",
    "        df: pandas dataframe\n",
    "    \n",
    "    Returns:\n",
    "        X: sparse matrix\n",
    "        user_mapper: dict that maps user id's to user indices\n",
    "        user_inv_mapper: dict that maps user indices to user id's\n",
    "        movie_mapper: dict that maps movie id's to movie indices\n",
    "        movie_inv_mapper: dict that maps movie indices to movie id's\n",
    "    \"\"\"\n",
    "    N = df['userId'].nunique()\n",
    "    M = df['movieId'].nunique()\n",
    "\n",
    "    user_mapper = dict(zip(np.unique(df[\"userId\"]), list(range(N))))\n",
    "    movie_mapper = dict(zip(np.unique(df[\"movieId\"]), list(range(M))))\n",
    "    \n",
    "    user_inv_mapper = dict(zip(list(range(N)), np.unique(df[\"userId\"])))\n",
    "    movie_inv_mapper = dict(zip(list(range(M)), np.unique(df[\"movieId\"])))\n",
    "    \n",
    "    user_index = [user_mapper[i] for i in df['userId']]\n",
    "    movie_index = [movie_mapper[i] for i in df['movieId']]\n",
    "\n",
    "    X = csr_matrix((df[\"rating\"], (movie_index, user_index)), shape=(M, N))\n",
    "    \n",
    "    return X, user_mapper, movie_mapper, user_inv_mapper, movie_inv_mapper"
   ]
  },
  {
   "cell_type": "code",
   "execution_count": null,
   "id": "f7ba922e",
   "metadata": {
    "execution": {
     "iopub.execute_input": "2023-11-04T10:04:00.611929Z",
     "iopub.status.busy": "2023-11-04T10:04:00.611619Z",
     "iopub.status.idle": "2023-11-04T10:04:00.691959Z",
     "shell.execute_reply": "2023-11-04T10:04:00.690406Z",
     "shell.execute_reply.started": "2023-11-04T10:04:00.611905Z"
    },
    "papermill": {
     "duration": null,
     "end_time": null,
     "exception": null,
     "start_time": null,
     "status": "pending"
    },
    "tags": []
   },
   "outputs": [],
   "source": [
    "X, user_mapper, movie_mapper, user_inv_mapper, movie_inv_mapper = create_X(ratings)"
   ]
  },
  {
   "cell_type": "code",
   "execution_count": null,
   "id": "b47aae91",
   "metadata": {
    "execution": {
     "iopub.execute_input": "2023-11-04T10:04:08.687884Z",
     "iopub.status.busy": "2023-11-04T10:04:08.687421Z",
     "iopub.status.idle": "2023-11-04T10:04:08.693817Z",
     "shell.execute_reply": "2023-11-04T10:04:08.692623Z",
     "shell.execute_reply.started": "2023-11-04T10:04:08.687855Z"
    },
    "papermill": {
     "duration": null,
     "end_time": null,
     "exception": null,
     "start_time": null,
     "status": "pending"
    },
    "tags": []
   },
   "outputs": [],
   "source": [
    "sparsity = X.count_nonzero()/(X.shape[0]*X.shape[1])\n",
    "\n",
    "print(f\"Matrix sparsity: {round(sparsity*100,2)}%\")"
   ]
  },
  {
   "cell_type": "code",
   "execution_count": null,
   "id": "a1cf9ca2",
   "metadata": {
    "execution": {
     "iopub.execute_input": "2023-11-04T10:04:24.062577Z",
     "iopub.status.busy": "2023-11-04T10:04:24.062182Z",
     "iopub.status.idle": "2023-11-04T10:04:24.067659Z",
     "shell.execute_reply": "2023-11-04T10:04:24.066510Z",
     "shell.execute_reply.started": "2023-11-04T10:04:24.062549Z"
    },
    "papermill": {
     "duration": null,
     "end_time": null,
     "exception": null,
     "start_time": null,
     "status": "pending"
    },
    "tags": []
   },
   "outputs": [],
   "source": [
    "import os\n",
    "\n",
    "\n",
    "if not os.path.exists('data'):\n",
    "    os.makedirs('data')\n"
   ]
  },
  {
   "cell_type": "code",
   "execution_count": null,
   "id": "8380f75e",
   "metadata": {
    "execution": {
     "iopub.execute_input": "2023-11-04T10:04:37.261547Z",
     "iopub.status.busy": "2023-11-04T10:04:37.261149Z",
     "iopub.status.idle": "2023-11-04T10:04:37.337099Z",
     "shell.execute_reply": "2023-11-04T10:04:37.336119Z",
     "shell.execute_reply.started": "2023-11-04T10:04:37.261517Z"
    },
    "papermill": {
     "duration": null,
     "end_time": null,
     "exception": null,
     "start_time": null,
     "status": "pending"
    },
    "tags": []
   },
   "outputs": [],
   "source": [
    "from scipy.sparse import save_npz\n",
    "\n",
    "save_npz('data/user_item_matrix.npz', X)"
   ]
  },
  {
   "cell_type": "code",
   "execution_count": null,
   "id": "d2e600f7",
   "metadata": {
    "execution": {
     "iopub.execute_input": "2023-11-04T10:05:01.154000Z",
     "iopub.status.busy": "2023-11-04T10:05:01.153621Z",
     "iopub.status.idle": "2023-11-04T10:05:01.510980Z",
     "shell.execute_reply": "2023-11-04T10:05:01.509916Z",
     "shell.execute_reply.started": "2023-11-04T10:05:01.153972Z"
    },
    "papermill": {
     "duration": null,
     "end_time": null,
     "exception": null,
     "start_time": null,
     "status": "pending"
    },
    "tags": []
   },
   "outputs": [],
   "source": [
    "from sklearn.neighbors import NearestNeighbors\n",
    "\n",
    "def find_similar_movies(movie_id, X, k, metric='cosine', show_distance=False):\n",
    "    \"\"\"\n",
    "    Finds k-nearest neighbours for a given movie id.\n",
    "    \n",
    "    Args:\n",
    "        movie_id: id of the movie of interest\n",
    "        X: user-item utility matrix\n",
    "        k: number of similar movies to retrieve\n",
    "        metric: distance metric for kNN calculations\n",
    "    \n",
    "    Returns:\n",
    "        list of k similar movie ID's\n",
    "    \"\"\"\n",
    "    neighbour_ids = []\n",
    "    \n",
    "    movie_ind = movie_mapper[movie_id]\n",
    "    movie_vec = X[movie_ind]\n",
    "    k+=1\n",
    "    kNN = NearestNeighbors(n_neighbors=k, algorithm=\"brute\", metric=metric)\n",
    "    kNN.fit(X)\n",
    "    if isinstance(movie_vec, (np.ndarray)):\n",
    "        movie_vec = movie_vec.reshape(1,-1)\n",
    "    neighbour = kNN.kneighbors(movie_vec, return_distance=show_distance)\n",
    "    for i in range(0,k):\n",
    "        n = neighbour.item(i)\n",
    "        neighbour_ids.append(movie_inv_mapper[n])\n",
    "    neighbour_ids.pop(0)\n",
    "    return neighbour_ids"
   ]
  },
  {
   "cell_type": "code",
   "execution_count": null,
   "id": "197fda8c",
   "metadata": {
    "execution": {
     "iopub.execute_input": "2023-11-04T10:05:24.550002Z",
     "iopub.status.busy": "2023-11-04T10:05:24.549678Z",
     "iopub.status.idle": "2023-11-04T10:05:24.563672Z",
     "shell.execute_reply": "2023-11-04T10:05:24.562265Z",
     "shell.execute_reply.started": "2023-11-04T10:05:24.549978Z"
    },
    "papermill": {
     "duration": null,
     "end_time": null,
     "exception": null,
     "start_time": null,
     "status": "pending"
    },
    "tags": []
   },
   "outputs": [],
   "source": [
    "movie_titles = dict(zip(movies['movieId'], movies['title']))\n",
    "\n",
    "movie_id = 1\n",
    "\n",
    "similar_ids = find_similar_movies(movie_id, X, k=10)\n",
    "movie_title = movie_titles[movie_id]\n",
    "\n",
    "print(f\"Because you bought {movie_title}\")\n",
    "for i in similar_ids:\n",
    "    print(movie_titles[i])"
   ]
  }
 ],
 "metadata": {
  "kernelspec": {
   "display_name": "Python 3",
   "language": "python",
   "name": "python3"
  },
  "language_info": {
   "codemirror_mode": {
    "name": "ipython",
    "version": 3
   },
   "file_extension": ".py",
   "mimetype": "text/x-python",
   "name": "python",
   "nbconvert_exporter": "python",
   "pygments_lexer": "ipython3",
   "version": "3.10.12"
  },
  "papermill": {
   "default_parameters": {},
   "duration": 8.112925,
   "end_time": "2023-11-04T11:50:00.474315",
   "environment_variables": {},
   "exception": true,
   "input_path": "__notebook__.ipynb",
   "output_path": "__notebook__.ipynb",
   "parameters": {},
   "start_time": "2023-11-04T11:49:52.361390",
   "version": "2.4.0"
  }
 },
 "nbformat": 4,
 "nbformat_minor": 5
}
